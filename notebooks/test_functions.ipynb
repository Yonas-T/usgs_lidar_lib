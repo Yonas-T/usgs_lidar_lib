{
 "cells": [
  {
   "cell_type": "code",
   "execution_count": 1,
   "metadata": {},
   "outputs": [],
   "source": [
    "%load_ext autoreload\n",
    "%autoreload 2"
   ]
  },
  {
   "cell_type": "code",
   "execution_count": 20,
   "metadata": {},
   "outputs": [],
   "source": [
    "import os\n",
    "import sys\n",
    "import pandas as pd\n",
    "sys.path.append(os.path.abspath(os.path.join('../')))\n"
   ]
  },
  {
   "cell_type": "code",
   "execution_count": 3,
   "metadata": {},
   "outputs": [],
   "source": [
    "from shapely.geometry import box, Point, Polygon \n",
    "from UsgsLidarLib import UsgsLidarLib\n",
    "from IPython.display import Markdown, display, Image "
   ]
  },
  {
   "cell_type": "code",
   "execution_count": 44,
   "metadata": {},
   "outputs": [],
   "source": [
    "# fetcher = Lidar_Data_Fetch(PUBLIC_DATA_URL, epsg=epsg)\n",
    "MINX, MINY, MAXX, MAXY = [-93.756155, 41.918015, -93.747334, 41.921429]\n",
    "\n",
    "\n",
    "polygon = Polygon(((MINX, MINY), (MINX, MAXY),\n",
    "                   (MAXX, MAXY), (MAXX, MINY), (MINX, MINY)))\n",
    "epsg = 4326"
   ]
  },
  {
   "cell_type": "code",
   "execution_count": 45,
   "metadata": {},
   "outputs": [
    {
     "name": "stdout",
     "output_type": "stream",
     "text": [
      "                         filename                  region    year        xmin  \\\n",
      "0              AK_BrooksCamp_2012           AK_BrooksCamp  2012.0 -17347360.0   \n",
      "1                 AK_Coastal_2009              AK_Coastal  2009.0 -15730544.0   \n",
      "2     AK_Fairbanks-NSBorough_2010  AK_Fairbanks-NSBorough  2010.0 -16471700.0   \n",
      "3                  AK_Juneau_2012               AK_Juneau  2012.0 -15014449.0   \n",
      "4                   AK_Kenai_2008                AK_Kenai  2008.0 -16906356.0   \n",
      "...                           ...                     ...     ...         ...   \n",
      "1591         WY_FEMA_East_B6_2019         WY_FEMA_East_B6  2019.0 -12129392.0   \n",
      "1592         WY_FEMA_East_B7_2019         WY_FEMA_East_B7  2019.0 -12312348.0   \n",
      "1593         WY_FEMA_East_B8_2019         WY_FEMA_East_B8  2019.0 -12316229.0   \n",
      "1594         WY_FEMA_East_B9_2019         WY_FEMA_East_B9  2019.0 -12312230.0   \n",
      "1595          WY_Southwest_1_2020          WY_Southwest_1  2020.0 -12412389.0   \n",
      "\n",
      "            xmax        ymin        ymax        points  \n",
      "0    -17321558.0   8065364.0   8091166.0     529285317  \n",
      "1    -15691854.0  10937407.0  10976097.0      55711772  \n",
      "2    -16381190.0   9519129.0   9609639.0    1266097458  \n",
      "3    -14943073.0   8012267.0   8083643.0    2211557952  \n",
      "4    -16570284.0   8303726.0   8639798.0   14054081685  \n",
      "...          ...         ...         ...           ...  \n",
      "1591 -11884452.0   5198641.0   5443581.0   30948770607  \n",
      "1592 -12030706.0   5096916.0   5378558.0   37468317458  \n",
      "1593 -12040761.0   5151367.0   5426835.0   43276595668  \n",
      "1594 -12039520.0   5248567.0   5521277.0  101655570782  \n",
      "1595 -12254989.0   5204407.0   5361807.0   31390102079  \n",
      "\n",
      "[1596 rows x 8 columns]\n"
     ]
    }
   ],
   "source": [
    "lidarPkg = UsgsLidarLib(epsg)"
   ]
  },
  {
   "cell_type": "code",
   "execution_count": 46,
   "metadata": {},
   "outputs": [
    {
     "name": "stdout",
     "output_type": "stream",
     "text": [
      "{'minx': -10436887.43333523, 'miny': 5148706.389047223, 'maxy': 5149217.145836504, 'maxx': -10435905.484106943}\n",
      "trying to Fetch elevation data for year Unknown from file_name IA_FullState...\n",
      "trying to Fetch elevation data for year 2009 from file_name NE_Rainwater-2_2009...\n",
      "trying to Fetch elevation data for year 2010 from file_name SD_James_River_NRCS_J_2010...\n",
      "trying to Fetch elevation data for year 2012 from file_name SD_Spink_County_2012...\n",
      "trying to Fetch elevation data for year 2017 from file_name USGS_LPC_NE_NRCS_OrthoLidar_B2_2017_LAS_2019...\n",
      "trying to Fetch elevation data for year 2016 from file_name USGS_LPC_NE_Hat_White_Cherry_UTM14_2016_LAS_2019...\n"
     ]
    }
   ],
   "source": [
    "result = lidarPkg.get_elevation_df(polygon, False, False)"
   ]
  },
  {
   "cell_type": "code",
   "execution_count": 47,
   "metadata": {},
   "outputs": [
    {
     "data": {
      "text/html": [
       "<div>\n",
       "<style scoped>\n",
       "    .dataframe tbody tr th:only-of-type {\n",
       "        vertical-align: middle;\n",
       "    }\n",
       "\n",
       "    .dataframe tbody tr th {\n",
       "        vertical-align: top;\n",
       "    }\n",
       "\n",
       "    .dataframe thead th {\n",
       "        text-align: right;\n",
       "    }\n",
       "</style>\n",
       "<table border=\"1\" class=\"dataframe\">\n",
       "  <thead>\n",
       "    <tr style=\"text-align: right;\">\n",
       "      <th></th>\n",
       "      <th>elevation</th>\n",
       "      <th>geometry</th>\n",
       "    </tr>\n",
       "  </thead>\n",
       "  <tbody>\n",
       "  </tbody>\n",
       "</table>\n",
       "</div>"
      ],
      "text/plain": [
       "Empty GeoDataFrame\n",
       "Columns: [elevation, geometry]\n",
       "Index: []"
      ]
     },
     "metadata": {},
     "output_type": "display_data"
    },
    {
     "data": {
      "text/plain": [
       "<Derived Projected CRS: EPSG:26915>\n",
       "Name: NAD83 / UTM zone 15N\n",
       "Axis Info [cartesian]:\n",
       "- E[east]: Easting (metre)\n",
       "- N[north]: Northing (metre)\n",
       "Area of Use:\n",
       "- name: North America - between 96°W and 90°W - onshore and offshore. Canada - Manitoba; Nunavut; Ontario. United States (USA) - Arkansas; Illinois; Iowa; Kansas; Louisiana; Michigan; Minnesota; Mississippi; Missouri; Nebraska; Oklahoma; Tennessee; Texas; Wisconsin.\n",
       "- bounds: (-96.0, 25.61, -90.0, 84.0)\n",
       "Coordinate Operation:\n",
       "- name: UTM zone 15N\n",
       "- method: Transverse Mercator\n",
       "Datum: North American Datum 1983\n",
       "- Ellipsoid: GRS 1980\n",
       "- Prime Meridian: Greenwich"
      ]
     },
     "metadata": {},
     "output_type": "display_data"
    }
   ],
   "source": [
    "df = result['Unknown']\n",
    "display(df.head())\n",
    "display(df.crs)"
   ]
  },
  {
   "cell_type": "code",
   "execution_count": null,
   "metadata": {},
   "outputs": [],
   "source": []
  }
 ],
 "metadata": {
  "interpreter": {
   "hash": "45116d4d0b1b0107c859d47b871cf9d958dd16ce6b8e7830154c3dc9f76705d8"
  },
  "kernelspec": {
   "display_name": "Python 3.10.5 ('week7_conda')",
   "language": "python",
   "name": "python3"
  },
  "language_info": {
   "codemirror_mode": {
    "name": "ipython",
    "version": 3
   },
   "file_extension": ".py",
   "mimetype": "text/x-python",
   "name": "python",
   "nbconvert_exporter": "python",
   "pygments_lexer": "ipython3",
   "version": "3.10.5"
  },
  "orig_nbformat": 4
 },
 "nbformat": 4,
 "nbformat_minor": 2
}
